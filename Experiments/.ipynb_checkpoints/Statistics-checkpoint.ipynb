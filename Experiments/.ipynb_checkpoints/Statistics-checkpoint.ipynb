{
 "cells": [
  {
   "cell_type": "code",
   "execution_count": 6,
   "id": "87cbf5c8-e2fb-442b-8e55-e615aac3eff7",
   "metadata": {
    "editable": true,
    "slideshow": {
     "slide_type": ""
    },
    "tags": []
   },
   "outputs": [
    {
     "name": "stdin",
     "output_type": "stream",
     "text": [
      "Enter a series of numbers (separated by commas):  1\n"
     ]
    },
    {
     "name": "stdout",
     "output_type": "stream",
     "text": [
      "\n",
      "Statistics:\n",
      "Mean: 1.00\n",
      "Median: 1.0\n",
      "Modes: 1.0\n"
     ]
    }
   ],
   "source": [
    "from statistics import mean, median, mode, multimode\n",
    "\n",
    "def calculate_statistics():\n",
    "    # Prompt user for input\n",
    "    user_input = input(\"Enter a series of numbers (separated by commas): \")\n",
    "    \n",
    "    # Convert input to a list of numbers\n",
    "    try:\n",
    "        numbers = [float(num.strip()) for num in user_input.split(',') if num.strip()]\n",
    "        if not numbers:\n",
    "            print(\"Error: No numbers provided.\")\n",
    "            return\n",
    "    except ValueError:\n",
    "        print(\"Error: Please enter only numerical values.\")\n",
    "        return\n",
    "    \n",
    "    # Calculate statistics\n",
    "    avg = mean(numbers)\n",
    "    med = median(numbers)\n",
    "    modes = multimode(numbers)\n",
    "    \n",
    "    # Print results\n",
    "    print(\"\\nStatistics:\")\n",
    "    print(f\"Mean: {avg:.2f}\")\n",
    "    print(f\"Median: {med}\")\n",
    "    print(f\"Modes: {', '.join(map(str, modes))}\")\n",
    "\n",
    "# Run the function\n",
    "calculate_statistics()"
   ]
  },
  {
   "cell_type": "code",
   "execution_count": null,
   "id": "ac27c007-c1fb-4f19-9c9d-d9a1d281c4bf",
   "metadata": {},
   "outputs": [],
   "source": []
  }
 ],
 "metadata": {
  "kernelspec": {
   "display_name": "Python 3 (ipykernel)",
   "language": "python",
   "name": "python3"
  },
  "language_info": {
   "codemirror_mode": {
    "name": "ipython",
    "version": 3
   },
   "file_extension": ".py",
   "mimetype": "text/x-python",
   "name": "python",
   "nbconvert_exporter": "python",
   "pygments_lexer": "ipython3",
   "version": "3.10.12"
  }
 },
 "nbformat": 4,
 "nbformat_minor": 5
}
