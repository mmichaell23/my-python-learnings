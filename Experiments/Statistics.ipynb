{
 "cells": [
  {
   "cell_type": "code",
   "execution_count": 6,
   "id": "87cbf5c8-e2fb-442b-8e55-e615aac3eff7",
   "metadata": {
    "editable": true,
    "slideshow": {
     "slide_type": ""
    },
    "tags": []
   },
   "outputs": [
    {
     "name": "stdin",
     "output_type": "stream",
     "text": [
      "Enter a series of numbers (separated by commas):  1\n"
     ]
    },
    {
     "name": "stdout",
     "output_type": "stream",
     "text": [
      "\n",
      "Statistics:\n",
      "Mean: 1.00\n",
      "Median: 1.0\n",
      "Modes: 1.0\n"
     ]
    }
   ],
   "source": [
    "from statistics import mean, median, mode, multimode\n",
    "\n",
    "def calculate_statistics():\n",
    "    # Prompt user for input\n",
    "    user_input = input(\"Enter a series of numbers (separated by commas): \")\n",
    "    \n",
    "    # Convert input to a list of numbers\n",
    "    try:\n",
    "        numbers = [float(num.strip()) for num in user_input.split(',') if num.strip()]\n",
    "        if not numbers:\n",
    "            print(\"Error: No numbers provided.\")\n",
    "            return\n",
    "    except ValueError:\n",
    "        print(\"Error: Please enter only numerical values.\")\n",
    "        return\n",
    "    \n",
    "    # Calculate statistics\n",
    "    avg = mean(numbers)\n",
    "    med = median(numbers)\n",
    "    modes = multimode(numbers)\n",
    "    \n",
    "    # Print results\n",
    "    print(\"\\nStatistics:\")\n",
    "    print(f\"Mean: {avg:.2f}\")\n",
    "    print(f\"Median: {med}\")\n",
    "    print(f\"Modes: {', '.join(map(str, modes))}\")\n",
    "\n",
    "# Run the function\n",
    "calculate_statistics()"
   ]
  },
  {
   "cell_type": "code",
   "execution_count": 11,
   "id": "ac27c007-c1fb-4f19-9c9d-d9a1d281c4bf",
   "metadata": {},
   "outputs": [
    {
     "name": "stdin",
     "output_type": "stream",
     "text": [
      "Enter a series of numbers separated by spaces:  asd\n"
     ]
    },
    {
     "name": "stdout",
     "output_type": "stream",
     "text": [
      "Error: Please enter only numerical values.\n"
     ]
    }
   ],
   "source": [
    "import statistics\n",
    "import numpy as np\n",
    "\n",
    "def compute_statistics():\n",
    "    # Prompt user for input\n",
    "    user_input = input(\"Enter a series of numbers separated by commas: \")\n",
    "    \n",
    "    # Convert input to a list of numbers\n",
    "    try:\n",
    "        numbers = [float(num.strip()) for num in user_input.split(',') if num.strip()]\n",
    "        if not numbers:\n",
    "            print(\"Error: No numbers provided.\")\n",
    "            return\n",
    "    except ValueError:\n",
    "        print(\"Error: Please enter only numerical values.\")\n",
    "        return\n",
    "    \n",
    "    # Compute range, variance, and standard deviation\n",
    "    data_range = max(numbers) - min(numbers)\n",
    "    variance = statistics.variance(numbers)\n",
    "    std_dev = statistics.stdev(numbers)\n",
    "    \n",
    "    # Compare with NumPy results\n",
    "    np_variance = np.var(numbers, ddof=1)  # Sample variance\n",
    "    np_std_dev = np.std(numbers, ddof=1)  # Sample standard deviation\n",
    "    \n",
    "    # Print results\n",
    "    print(\"\\nStatistics:\")\n",
    "    print(f\"Range: {data_range}\")\n",
    "    print(f\"Variance: {variance:.2f} (Python), {np_variance:.2f} (NumPy)\")\n",
    "    print(f\"Standard Deviation: {std_dev:.2f} (Python), {np_std_dev:.2f} (NumPy)\")\n",
    "\n",
    "# Run the function\n",
    "compute_statistics()\n",
    "\n"
   ]
  },
  {
   "cell_type": "code",
   "execution_count": 15,
   "id": "f98fd7d8-13d2-4cd7-9f2d-c8f6cb4c0bda",
   "metadata": {},
   "outputs": [
    {
     "name": "stdin",
     "output_type": "stream",
     "text": [
      "Enter a series of numbers (separated by commas):  5, 6, 6\n"
     ]
    },
    {
     "name": "stdout",
     "output_type": "stream",
     "text": [
      "\n",
      "Statistics:\n",
      "Q1: 5.0\n",
      "Q2 (Median): 6.0\n",
      "Q3: 6.0\n",
      "IQR: 1.0\n"
     ]
    }
   ],
   "source": [
    "from statistics import median\n",
    "\n",
    "def compute_quartiles():\n",
    "    \"\"\"Compute Q1, Q2, Q3, and IQR for a given dataset.\"\"\"\n",
    "    user_input = input(\"Enter a series of numbers (separated by commas): \")\n",
    "    \n",
    "    try:\n",
    "        data = [float(num.strip()) for num in user_input.split(',') if num.strip()]\n",
    "        if not data:\n",
    "            print(\"Error: No numbers provided.\")\n",
    "            return\n",
    "    except ValueError:\n",
    "        print(\"Error: Please enter only numerical values.\")\n",
    "        return\n",
    "    \n",
    "    sorted_data = sorted(data)\n",
    "    n = len(sorted_data)\n",
    "    \n",
    "    Q2 = median(sorted_data)  # Median of the full dataset\n",
    "    lower_half = sorted_data[:n // 2]  # Lower half\n",
    "    upper_half = sorted_data[(n + 1) // 2:]  # Upper half\n",
    "    \n",
    "    Q1 = median(lower_half)  # Median of the lower half\n",
    "    Q3 = median(upper_half)  # Median of the upper half\n",
    "    \n",
    "    IQR = Q3 - Q1  # Interquartile range\n",
    "    \n",
    "    print(\"\\nStatistics:\")\n",
    "    print(f\"Q1: {Q1}\")\n",
    "    print(f\"Q2 (Median): {Q2}\")\n",
    "    print(f\"Q3: {Q3}\")\n",
    "    print(f\"IQR: {IQR}\")\n",
    "\n",
    "# Run the function\n",
    "compute_quartiles()"
   ]
  },
  {
   "cell_type": "code",
   "execution_count": 22,
   "id": "eda8bb67-4bfb-471b-9cfb-a6aadd597d62",
   "metadata": {},
   "outputs": [
    {
     "name": "stdin",
     "output_type": "stream",
     "text": [
      "Enter a series of numbers (separated by commas):  2,1,6,4,1,32,23,21\n",
      "Enter the outlier detection multiplier (default is 1.5):  3.0\n"
     ]
    },
    {
     "name": "stdout",
     "output_type": "stream",
     "text": [
      "\n",
      "Statistics:\n",
      "Q1: 1.5\n",
      "Q2 (Median): 5.0\n",
      "Q3: 22.0\n",
      "IQR: 20.5\n",
      "Lower Fence: -60.0\n",
      "Upper Fence: 83.5\n",
      "No outliers detected.\n",
      "Clean Data (without outliers): [1.0, 1.0, 2.0, 4.0, 6.0, 21.0, 23.0, 32.0]\n"
     ]
    }
   ],
   "source": [
    "from statistics import median\n",
    "\n",
    "def compute_quartiles_and_outliers():\n",
    "    \"\"\"Compute Q1, Q2, Q3, IQR, and detect outliers using the IQR method.\"\"\"\n",
    "    user_input = input(\"Enter a series of numbers (separated by commas): \")\n",
    "    \n",
    "    try:\n",
    "        data = [float(num.strip()) for num in user_input.split(',') if num.strip()]\n",
    "        if not data:\n",
    "            print(\"Error: No numbers provided.\")\n",
    "            return\n",
    "    except ValueError:\n",
    "        print(\"Error: Please enter only numerical values.\")\n",
    "        return\n",
    "    \n",
    "    multiplier = input(\"Enter the outlier detection multiplier (default is 1.5): \")\n",
    "    try:\n",
    "        multiplier = float(multiplier) if multiplier.strip() else 1.5\n",
    "    except ValueError:\n",
    "        print(\"Error: Invalid multiplier. Using default value of 1.5.\")\n",
    "        multiplier = 1.5\n",
    "    \n",
    "    sorted_data = sorted(data)\n",
    "    n = len(sorted_data)\n",
    "    \n",
    "    Q2 = median(sorted_data)  # Median of the full dataset\n",
    "    lower_half = sorted_data[:n // 2]  # Lower half\n",
    "    upper_half = sorted_data[(n + 1) // 2:]  # Upper half\n",
    "    \n",
    "    Q1 = median(lower_half)  # Median of the lower half\n",
    "    Q3 = median(upper_half)  # Median of the upper half\n",
    "    \n",
    "    IQR = Q3 - Q1  # Interquartile range\n",
    "    \n",
    "    lower_fence = Q1 - multiplier * IQR\n",
    "    upper_fence = Q3 + multiplier * IQR\n",
    "    \n",
    "    outliers = [x for x in sorted_data if x < lower_fence or x > upper_fence]\n",
    "    clean_data = [x for x in sorted_data if lower_fence <= x <= upper_fence]\n",
    "    \n",
    "    print(\"\\nStatistics:\")\n",
    "    print(f\"Q1: {Q1}\")\n",
    "    print(f\"Q2 (Median): {Q2}\")\n",
    "    print(f\"Q3: {Q3}\")\n",
    "    print(f\"IQR: {IQR}\")\n",
    "    print(f\"Lower Fence: {lower_fence}\")\n",
    "    print(f\"Upper Fence: {upper_fence}\")\n",
    "    print(f\"Outliers: {outliers}\" if outliers else \"No outliers detected.\")\n",
    "    print(f\"Clean Data (without outliers): {clean_data}\")\n",
    "\n",
    "# Run the function\n",
    "compute_quartiles_and_outliers()"
   ]
  },
  {
   "cell_type": "code",
   "execution_count": 27,
   "id": "6e643baf-58bf-4e03-83b9-49c014ff1878",
   "metadata": {},
   "outputs": [
    {
     "name": "stdin",
     "output_type": "stream",
     "text": [
      "Enter a series of numbers (separated by commas):  2,6,1,26,1,3,312\n",
      "Enter the outlier detection multiplier (default is 1.5):  1.5\n"
     ]
    },
    {
     "name": "stdout",
     "output_type": "stream",
     "text": [
      "\n",
      "Statistics:\n",
      "Q1: 1.0\n",
      "Q2 (Median): 3.0\n",
      "Q3: 26.0\n",
      "IQR: 25.0\n",
      "Lower Fence: -36.5\n",
      "Upper Fence: 63.5\n",
      "Outliers (IQR method): [312.0]\n",
      "Clean Data (without IQR outliers): [1.0, 1.0, 2.0, 3.0, 6.0, 26.0]\n",
      "\n",
      "Z-Scores:\n",
      "Value: 2.0, Z-score: -0.42\n",
      "Value: 6.0, Z-score: -0.38\n",
      "Value: 1.0, Z-score: -0.42\n",
      "Value: 26.0, Z-score: -0.21\n",
      "Value: 3.0, Z-score: -0.41\n",
      "Value: 312.0, Z-score: 2.26\n",
      "\n",
      "Outliers based on Z-score threshold (|Z| > 3):\n",
      "No outliers detected using Z-score method.\n"
     ]
    }
   ],
   "source": [
    "from statistics import median, mean, stdev\n",
    "\n",
    "def compute_statistics():\n",
    "    \"\"\"Compute Q1, Q2, Q3, IQR, Z-scores, and detect outliers using both methods.\"\"\"\n",
    "    user_input = input(\"Enter a series of numbers (separated by commas): \")\n",
    "    \n",
    "    try:\n",
    "        data = [float(num.strip()) for num in user_input.split(',') if num.strip()]\n",
    "        if not data:\n",
    "            print(\"Error: No numbers provided.\")\n",
    "            return\n",
    "    except ValueError:\n",
    "        print(\"Error: Please enter only numerical values.\")\n",
    "        return\n",
    "    \n",
    "    multiplier = input(\"Enter the outlier detection multiplier (default is 1.5): \")\n",
    "    try:\n",
    "        multiplier = float(multiplier) if multiplier.strip() else 1.5\n",
    "    except ValueError:\n",
    "        print(\"Error: Invalid multiplier. Using default value of 1.5.\")\n",
    "        multiplier = 1.5\n",
    "    \n",
    "    sorted_data = sorted(data)\n",
    "    n = len(sorted_data)\n",
    "    \n",
    "    Q2 = median(sorted_data)  # Median of the full dataset\n",
    "    lower_half = sorted_data[:n // 2]  # Lower half\n",
    "    upper_half = sorted_data[(n + 1) // 2:]  # Upper half\n",
    "    \n",
    "    Q1 = median(lower_half)  # Median of the lower half\n",
    "    Q3 = median(upper_half)  # Median of the upper half\n",
    "    \n",
    "    IQR = Q3 - Q1  # Interquartile range\n",
    "    \n",
    "    lower_fence = Q1 - multiplier * IQR\n",
    "    upper_fence = Q3 + multiplier * IQR\n",
    "    \n",
    "    outliers_iqr = [x for x in sorted_data if x < lower_fence or x > upper_fence]\n",
    "    clean_data_iqr = [x for x in sorted_data if lower_fence <= x <= upper_fence]\n",
    "    \n",
    "    data_mean = mean(data)\n",
    "    data_stdev = stdev(data)\n",
    "    \n",
    "    z_scores = {x: (x - data_mean) / data_stdev for x in data}\n",
    "    outliers_z = {x: z for x, z in z_scores.items() if abs(z) > 3}\n",
    "    \n",
    "    print(\"\\nStatistics:\")\n",
    "    print(f\"Q1: {Q1}\")\n",
    "    print(f\"Q2 (Median): {Q2}\")\n",
    "    print(f\"Q3: {Q3}\")\n",
    "    print(f\"IQR: {IQR}\")\n",
    "    print(f\"Lower Fence: {lower_fence}\")\n",
    "    print(f\"Upper Fence: {upper_fence}\")\n",
    "    print(f\"Outliers (IQR method): {outliers_iqr}\" if outliers_iqr else \"No outliers detected using IQR method.\")\n",
    "    print(f\"Clean Data (without IQR outliers): {clean_data_iqr}\")\n",
    "    \n",
    "    print(\"\\nZ-Scores:\")\n",
    "    for x, z in z_scores.items():\n",
    "        print(f\"Value: {x}, Z-score: {z:.2f}\")\n",
    "    \n",
    "    print(\"\\nOutliers based on Z-score threshold (|Z| > 3):\")\n",
    "    if outliers_z:\n",
    "        for x, z in outliers_z.items():\n",
    "            print(f\"Value: {x}, Z-score: {z:.2f}\")\n",
    "    else:\n",
    "        print(\"No outliers detected using Z-score method.\")\n",
    "\n",
    "# Run the function\n",
    "compute_statistics()"
   ]
  },
  {
   "cell_type": "code",
   "execution_count": null,
   "id": "cd89f928-7484-4a51-b06f-b4227991dc03",
   "metadata": {},
   "outputs": [],
   "source": []
  }
 ],
 "metadata": {
  "kernelspec": {
   "display_name": "Python 3 (ipykernel)",
   "language": "python",
   "name": "python3"
  },
  "language_info": {
   "codemirror_mode": {
    "name": "ipython",
    "version": 3
   },
   "file_extension": ".py",
   "mimetype": "text/x-python",
   "name": "python",
   "nbconvert_exporter": "python",
   "pygments_lexer": "ipython3",
   "version": "3.10.12"
  }
 },
 "nbformat": 4,
 "nbformat_minor": 5
}
