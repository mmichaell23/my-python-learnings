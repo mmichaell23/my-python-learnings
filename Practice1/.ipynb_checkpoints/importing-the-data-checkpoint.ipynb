{
 "cells": [
  {
   "cell_type": "code",
   "execution_count": 27,
   "id": "68dfd153-b7c4-482c-b940-81bf7f0e76ac",
   "metadata": {},
   "outputs": [
    {
     "data": {
      "text/plain": [
       "' Line graph for the entire DataFrame '"
      ]
     },
     "execution_count": 27,
     "metadata": {},
     "output_type": "execute_result"
    }
   ],
   "source": [
    "import pandas as pd # lib for data\n",
    "import matplotlib.pyplot as plt # lib for graphing\n",
    "\n",
    "''' will display the chart '''\n",
    "# datachart = pandas.read_csv('practice.csv')\n",
    "# datachart\n",
    "\n",
    "''' will display the data dype of each columns '''\n",
    "# datachart = pd.read_csv('practice.csv')\n",
    "# print(datachart.dtypes)\n",
    "\n",
    "''' Mean ''' \n",
    "# mean_values = datachart.mean(numeric_only=True)\n",
    "\n",
    "''' Median '''\n",
    "# median_values = datachart.median(numeric_only=True)\n",
    "\n",
    "''' Mode '''\n",
    "# mode_values = datachart.mode().iloc[0]  # The first row contains the most common value for each column\n",
    "\n",
    "''' Standard deviation '''\n",
    "# std_values = datachart.std(numeric_only=True)\n",
    "\n",
    "''' Display the results '''\n",
    "# print(\"Mean:\\n\", mean_values)\n",
    "# print(\"\\nMedian:\\n\", median_values)\n",
    "# print(\"\\nMode:\\n\", mode_values)\n",
    "\n",
    "''' Display the result '''\n",
    "# print(\"\\nStandard Deviation:\\n\", std_values)\n",
    "\n",
    "\n",
    "''' Line graph for the entire DataFrame '''\n",
    "# datachart.plot(kind='line', figsize=(10, 6), title='Line Graph')\n",
    "# plt.xlabel('Index')\n",
    "# plt.ylabel('Values')\n",
    "# plt.show()"
   ]
  },
  {
   "cell_type": "code",
   "execution_count": null,
   "id": "edfabdab-1d19-4ac9-9e32-c617a7edbba1",
   "metadata": {},
   "outputs": [],
   "source": []
  }
 ],
 "metadata": {
  "kernelspec": {
   "display_name": "Python 3 (ipykernel)",
   "language": "python",
   "name": "python3"
  },
  "language_info": {
   "codemirror_mode": {
    "name": "ipython",
    "version": 3
   },
   "file_extension": ".py",
   "mimetype": "text/x-python",
   "name": "python",
   "nbconvert_exporter": "python",
   "pygments_lexer": "ipython3",
   "version": "3.10.12"
  }
 },
 "nbformat": 4,
 "nbformat_minor": 5
}
