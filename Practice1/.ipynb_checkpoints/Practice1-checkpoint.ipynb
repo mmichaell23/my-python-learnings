{
 "cells": [
  {
   "cell_type": "code",
   "execution_count": 1,
   "id": "5e7c4361-395d-48a4-a478-26d50728d45e",
   "metadata": {},
   "outputs": [
    {
     "name": "stdout",
     "output_type": "stream",
     "text": [
      "hello\n"
     ]
    }
   ],
   "source": [
    "print(\"hello\")"
   ]
  },
  {
   "cell_type": "code",
   "execution_count": 2,
   "id": "8a49082b-3c8e-49e1-8c91-54f16eb37328",
   "metadata": {},
   "outputs": [
    {
     "name": "stdout",
     "output_type": "stream",
     "text": [
      "23\n"
     ]
    }
   ],
   "source": [
    "num = 23;\n",
    "print(num)"
   ]
  },
  {
   "cell_type": "code",
   "execution_count": 4,
   "id": "03488622-3451-4c74-9ef0-219c5f123594",
   "metadata": {},
   "outputs": [
    {
     "name": "stdout",
     "output_type": "stream",
     "text": [
      "michael\n"
     ]
    }
   ],
   "source": [
    "name = \"michael\"\n",
    "print(name)"
   ]
  },
  {
   "cell_type": "code",
   "execution_count": 5,
   "id": "8bea3197-6b78-4c7e-9a6c-5af631011a55",
   "metadata": {},
   "outputs": [
    {
     "name": "stdout",
     "output_type": "stream",
     "text": [
      "2323.1\n"
     ]
    }
   ],
   "source": [
    "peso = 2323.1\n",
    "print(peso)"
   ]
  },
  {
   "cell_type": "code",
   "execution_count": null,
   "id": "54c229f6-b1c3-4925-beb6-80bcd9cac0e0",
   "metadata": {},
   "outputs": [],
   "source": [
    "name = input(\"Enter your name: \")\n",
    "print(\"Hi \" + name)"
   ]
  },
  {
   "cell_type": "code",
   "execution_count": null,
   "id": "5e362522-a7a4-439b-92c0-1011495b3a7b",
   "metadata": {},
   "outputs": [],
   "source": [
    "employee = [\"mark\", \"mike\", \"bob\"]\n",
    "ages = [18, 21, 35]\n",
    "employee.extend(ages)\n",
    "employee.append(\"jie\")\n",
    "employee.insert(2, \"aj\")\n",
    "print(employee)"
   ]
  },
  {
   "cell_type": "code",
   "execution_count": 21,
   "id": "c5880a1e-20ca-4e6c-a496-54a21747e0e6",
   "metadata": {},
   "outputs": [
    {
     "name": "stdout",
     "output_type": "stream",
     "text": [
      "(4, 5, 7, 1)\n"
     ]
    }
   ],
   "source": [
    "num = (4,5,7,1)\n",
    "#num[0] = 2;\n",
    "print(num)"
   ]
  },
  {
   "cell_type": "code",
   "execution_count": 25,
   "id": "0088984d-7e89-43e6-b09a-53841131153f",
   "metadata": {},
   "outputs": [
    {
     "name": "stdout",
     "output_type": "stream",
     "text": [
      "hi\n"
     ]
    }
   ],
   "source": [
    "def hi():\n",
    "    print(\"hi\")\n",
    "\n",
    "hi()"
   ]
  },
  {
   "cell_type": "code",
   "execution_count": 2,
   "id": "8ed2def6-e839-41b5-8721-2915e369bfa7",
   "metadata": {},
   "outputs": [
    {
     "name": "stdout",
     "output_type": "stream",
     "text": [
      "25\n"
     ]
    }
   ],
   "source": [
    "def mul(x):\n",
    "    return x*x\n",
    "print(mul(5))"
   ]
  },
  {
   "cell_type": "code",
   "execution_count": 5,
   "id": "1e688fe2-d0c0-4d43-aca6-a63d690b5e50",
   "metadata": {},
   "outputs": [
    {
     "name": "stdout",
     "output_type": "stream",
     "text": [
      "World\n"
     ]
    }
   ],
   "source": [
    "if 1 == 2:\n",
    "    print(\"Hi\")\n",
    "elif 1 == 1: \n",
    "    print(\"World\")\n",
    "else:\n",
    "    print(\"Hello, World\")"
   ]
  },
  {
   "cell_type": "code",
   "execution_count": 11,
   "id": "f5b341e0-5fb6-4f10-8889-30cf424f6f36",
   "metadata": {},
   "outputs": [
    {
     "name": "stdout",
     "output_type": "stream",
     "text": [
      "Juan\n"
     ]
    }
   ],
   "source": [
    "# Dictionaries\n",
    "employeNames = {\n",
    "    0: \"Michael\",\n",
    "    1: \"Juan\",\n",
    "}\n",
    "print(employeNames.get(1))"
   ]
  },
  {
   "cell_type": "code",
   "execution_count": 10,
   "id": "de8eb20d-de5b-4691-b908-b6f5bf2bba34",
   "metadata": {},
   "outputs": [
    {
     "name": "stdout",
     "output_type": "stream",
     "text": [
      "apple\n",
      "banana\n"
     ]
    }
   ],
   "source": [
    "fruits = [\"apple\", \"banana\", \"cherry\"]\n",
    "for x in fruits:\n",
    "  print(x)\n",
    "  if x == \"banana\":\n",
    "    break"
   ]
  },
  {
   "cell_type": "code",
   "execution_count": 6,
   "id": "b4b49503-ccd2-4f2f-aaf1-28eae55d9bf3",
   "metadata": {},
   "outputs": [
    {
     "name": "stdout",
     "output_type": "stream",
     "text": [
      "1\n",
      "2\n",
      "3\n",
      "4\n",
      "5\n",
      "6\n",
      "7\n",
      "8\n",
      "9\n",
      "0\n"
     ]
    }
   ],
   "source": [
    "number_grid = [\n",
    "    [1, 2, 3],\n",
    "    [4, 5, 6],\n",
    "    [7, 8, 9],\n",
    "    [0]\n",
    "]\n",
    "for row in number_grid:\n",
    "    for col in row:\n",
    "        print(col)"
   ]
  },
  {
   "cell_type": "code",
   "execution_count": 16,
   "id": "f5e0f610-0525-4328-b089-37d0f8cb998d",
   "metadata": {},
   "outputs": [
    {
     "name": "stdin",
     "output_type": "stream",
     "text": [
      "Enter a phrase:  has\n"
     ]
    },
    {
     "name": "stdout",
     "output_type": "stream",
     "text": [
      "hgs\n"
     ]
    }
   ],
   "source": [
    "'''\n",
    "hello\n",
    "'''\n",
    "\n",
    "# Translator\n",
    "def translate(phrase):\n",
    "    translation = \"\"\n",
    "    for letter in phrase:\n",
    "        if letter.lower() in \"aeiou\":\n",
    "            if letter.isupper():\n",
    "                translation = translation + \"G\"\n",
    "            else:\n",
    "                translation = translation + \"g\"\n",
    "        else: \n",
    "            translation = translation + letter \n",
    "    return translation \n",
    "print(translate(input(\"Enter a phrase: \")))"
   ]
  },
  {
   "cell_type": "code",
   "execution_count": 31,
   "id": "f1a967fb-81fe-434f-8125-45e0b810a300",
   "metadata": {},
   "outputs": [
    {
     "name": "stdout",
     "output_type": "stream",
     "text": [
      "division by zero\n"
     ]
    }
   ],
   "source": [
    "# exception\n",
    "\n",
    "try: \n",
    "    answer = 10/0\n",
    "    prompt = int(input(\"Enter a Number: \"))\n",
    "    print(prompt)\n",
    "except ZeroDivisionError as err: \n",
    "    print(err)\n",
    "except ValueError:\n",
    "    print(\"Invalid Input\")"
   ]
  },
  {
   "cell_type": "code",
   "execution_count": 52,
   "id": "3b46d809-a966-4c06-90a7-6ee3f7fcf4b2",
   "metadata": {},
   "outputs": [
    {
     "name": "stdout",
     "output_type": "stream",
     "text": [
      "Michael\n",
      "\n",
      "Mark\n"
     ]
    }
   ],
   "source": [
    "# reading files\n",
    "\n",
    "name = open(\"Names.txt\",\"r\") # w - overwrite : r - read : a - rewrite\n",
    "# print(name.read())\n",
    "# print(name.readlines())\n",
    "\n",
    "for names in name.readlines():\n",
    "    print(names)\n",
    "name.close()"
   ]
  },
  {
   "cell_type": "code",
   "execution_count": 59,
   "id": "48d0df55-4812-4a00-ab4d-07e535aa0a4e",
   "metadata": {},
   "outputs": [],
   "source": [
    "# writing files \n",
    "\n",
    "name = open(\"Names1.txt\",\"a\")\n",
    "name.write(\"Bob\")\n",
    "name.close()"
   ]
  },
  {
   "cell_type": "code",
   "execution_count": 60,
   "id": "8230a22c-d392-4164-aada-04b1eddbe44d",
   "metadata": {},
   "outputs": [],
   "source": [
    "# writing an simple page\n",
    "\n",
    "web = open(\"index.html\", \"w\")\n",
    "web.write(\"<p> Hello World</p>\")\n",
    "web.close()"
   ]
  },
  {
   "cell_type": "code",
   "execution_count": 29,
   "id": "e9e9b73a-df6c-4649-92d1-12e09c4f748f",
   "metadata": {},
   "outputs": [],
   "source": [
    "class Student: \n",
    "    def __init__(self, name, major, gpa):\n",
    "        self.name = name\n",
    "        self.major = major\n",
    "        self.gpa = gpa\n",
    "        \n",
    "    def on_honor_roll(self):\n",
    "        if self.gpa >= 3.5:\n",
    "            return True\n",
    "        else:\n",
    "            return False"
   ]
  },
  {
   "cell_type": "code",
   "execution_count": 30,
   "id": "550d00f0-165d-491e-88ed-8ef2c2daa188",
   "metadata": {},
   "outputs": [
    {
     "name": "stdout",
     "output_type": "stream",
     "text": [
      "2.0\n"
     ]
    },
    {
     "ename": "AttributeError",
     "evalue": "'Student' object has no attribute 'on_honor_roll'",
     "output_type": "error",
     "traceback": [
      "\u001b[0;31m---------------------------------------------------------------------------\u001b[0m",
      "\u001b[0;31mAttributeError\u001b[0m                            Traceback (most recent call last)",
      "Cell \u001b[0;32mIn[30], line 5\u001b[0m\n\u001b[1;32m      3\u001b[0m student1 \u001b[38;5;241m=\u001b[39m Student(\u001b[38;5;124m\"\u001b[39m\u001b[38;5;124mMichael\u001b[39m\u001b[38;5;124m\"\u001b[39m, \u001b[38;5;124m\"\u001b[39m\u001b[38;5;124mComSci\u001b[39m\u001b[38;5;124m\"\u001b[39m, \u001b[38;5;241m2.0\u001b[39m)\n\u001b[1;32m      4\u001b[0m \u001b[38;5;28mprint\u001b[39m(student1\u001b[38;5;241m.\u001b[39mgpa)\n\u001b[0;32m----> 5\u001b[0m \u001b[38;5;28mprint\u001b[39m(\u001b[43mstudent1\u001b[49m\u001b[38;5;241;43m.\u001b[39;49m\u001b[43mon_honor_roll\u001b[49m())\n",
      "\u001b[0;31mAttributeError\u001b[0m: 'Student' object has no attribute 'on_honor_roll'"
     ]
    }
   ],
   "source": [
    "from Student import Student\n",
    "\n",
    "student1 = Student(\"Michael\", \"ComSci\", 2.0)\n",
    "print(student1.gpa)\n",
    "print(student1.on_honor_roll())"
   ]
  },
  {
   "cell_type": "code",
   "execution_count": null,
   "id": "e0102fa1-3dc7-4049-a436-8e60fae93323",
   "metadata": {},
   "outputs": [],
   "source": [
    "class Question:\n",
    "    def __init__(self, prompt, answer):\n",
    "        self.prompt = prompt\n",
    "        self.answer = answer\n",
    "\n",
    "question_prompts = [\n",
    "\t\"What color are Apples?\\n(a) Red/Green\\n(b) Purple\\n(c) Orange\\n\\n\",\n",
    "\t\"What color are Bananas?\\n(a) Teal\\n(b) Magenta\\n(c) Yellow\\n\\n\",\n",
    "\t\"What color are Straberries?\\n(a) Yellow\\n(b) Red\\n(c) Blue\\n\\n\"\n",
    "]\n",
    "\n",
    "questions = [\n",
    "\tQuestion(question_prompts[0], \"a\"),\n",
    "\tQuestion(question_prompts[1], \"c\"),\n",
    "\tQuestion(question_prompts[2], \"b\"),\n",
    "]\n",
    "\n",
    "def run_test(questions):\n",
    "\tscore = 0\n",
    "\tfor question in questions:\n",
    "\t\tanswer = input(question.prompt)\n",
    "\t\tif answer == question.answer:\n",
    "\t\t\tscore += 1\n",
    "\tprint(\"You got \" + str(score) + \"/\" + str(len(questions)) + \" correct\")\n",
    "\t\n",
    "run_test(questions)"
   ]
  },
  {
   "cell_type": "code",
   "execution_count": 29,
   "id": "4e463cff-cfb3-407c-9fe4-57a2f753cc90",
   "metadata": {},
   "outputs": [
    {
     "name": "stdout",
     "output_type": "stream",
     "text": [
      "The chef makes a salad\n",
      "The chef makes a chicken\n",
      "The chef makes a special dish\n"
     ]
    }
   ],
   "source": [
    "# inheritance\n",
    "\n",
    "from Chef import Chef\n",
    "from ChineseChef import ChineseChef\n",
    "\n",
    "myChef = Chef()\n",
    "myChef.make_salad()\n",
    "\n",
    "myChineseChef = ChineseChef()\n",
    "myChineseChef.make_chicken()\n",
    "myChineseChef.make_special_dish()"
   ]
  }
 ],
 "metadata": {
  "kernelspec": {
   "display_name": "Python 3 (ipykernel)",
   "language": "python",
   "name": "python3"
  },
  "language_info": {
   "codemirror_mode": {
    "name": "ipython",
    "version": 3
   },
   "file_extension": ".py",
   "mimetype": "text/x-python",
   "name": "python",
   "nbconvert_exporter": "python",
   "pygments_lexer": "ipython3",
   "version": "3.10.12"
  }
 },
 "nbformat": 4,
 "nbformat_minor": 5
}
