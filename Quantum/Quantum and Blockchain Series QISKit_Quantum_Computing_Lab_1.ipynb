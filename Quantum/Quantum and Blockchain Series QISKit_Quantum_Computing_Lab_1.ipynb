{
 "cells": [
  {
   "cell_type": "markdown",
   "metadata": {
    "id": "5qNxQyAfH9fS"
   },
   "source": [
    "\n",
    "\n",
    "### Quantum Logic Gates\n",
    "\n",
    "A Quantum Logic Gate are the building blocks of Quantum Circuits, like classical logic gates are for conventional digital circuits\n",
    "\n",
    "\n",
    "|Name|Functions|Examples|\n",
    "|--|--|--|\n",
    "|X (NOT Gate)|x()|qc.x(0)\n",
    "|Hadamard|h()|qc.h(2)\n",
    "|CX Gate (CNOT Gate)|cx()|qc.cx(q[0],q[1])\n",
    "|CCX Gate (CNOT Gate)|ccx()|qc.ccx(q[0],q[1],q[2])\n",
    "\n",
    "\n",
    "\n",
    "\n"
   ]
  },
  {
   "cell_type": "markdown",
   "metadata": {
    "id": "IVulPuiRUyZZ"
   },
   "source": [
    "#Exercise 0\n",
    "\n",
    "Run the code below to install the required libraries. To do this, click on the triangular **\"run\"** button as shown below:\n",
    "\n",
    "<img src=\"https://github.com/Quantum-Computing-Philippines/QISkit-Beginner-Exercises/blob/bobby/images/colab_run.png?raw=1\">\n",
    "\n",
    "After running, if you want to clear the output, you can click on the 3 dots at the rightmost corner of the cell to show further options.\n",
    "\n",
    "<img src=\"https://github.com/Quantum-Computing-Philippines/QISkit-Beginner-Exercises/blob/bobby/images/colab_3dots.png?raw=1\">\n",
    "\n",
    "The click on **Clear output**.\n",
    "\n",
    "<img src=\"https://github.com/Quantum-Computing-Philippines/QISkit-Beginner-Exercises/blob/bobby/images/colab_clear_output.png?raw=1\">"
   ]
  },
  {
   "cell_type": "code",
   "execution_count": null,
   "metadata": {
    "id": "8nmqSfX3oohJ"
   },
   "outputs": [],
   "source": [
    "!pip install ipywidgets pylatexenc qiskit cython==0.29.36 qiskit-aer\n",
    "import warnings\n",
    "warnings.filterwarnings(\"ignore\")\n"
   ]
  },
  {
   "cell_type": "markdown",
   "metadata": {
    "id": "5A0qpVfN87s9"
   },
   "source": [
    "#Exercise 1 Basic Circuit\n",
    "\n",
    "1. Copy/Paste the code below.\n",
    "2. Run the code to show the circuit.\n",
    "3. Modify the code to create a circuit with an input register of 3 qubits, an output register of 1 qubit and a classical register of 3 qubits\n",
    "\n",
    "```python\n",
    "# Import the Qiskit SDK\n",
    "from qiskit import QuantumCircuit, ClassicalRegister, QuantumRegister\n",
    "\n",
    "# Create the input Quantum Register with 2 qubits.\n",
    "qin = QuantumRegister(2)\n",
    "\n",
    "# Create a Classical Register with 2 bits that will hold the result of the measurement\n",
    "c = ClassicalRegister(2)\n",
    "\n",
    "# Create the Quantum Circuit\n",
    "qc = QuantumCircuit(qin,c)\n",
    "\n",
    "qc.barrier()  \n",
    "\n",
    "# Measure and draw\n",
    "qc.measure(qin,c)\n",
    "qc.draw(output='mpl')\n",
    "```"
   ]
  },
  {
   "cell_type": "markdown",
   "metadata": {
    "id": "Ia83e1_QZgoj"
   },
   "source": [
    "#Answer"
   ]
  },
  {
   "cell_type": "code",
   "execution_count": null,
   "metadata": {
    "id": "ZXCLzkp5ZkDY"
   },
   "outputs": [],
   "source": [
    "# Type your answer here.\n",
    "# Import the Qiskit SDK\n"
   ]
  },
  {
   "cell_type": "markdown",
   "metadata": {
    "id": "jjdoj0tC_MxA"
   },
   "source": [
    "#Exercise 2a Simulation Code\n",
    "\n",
    "Add the following code to simulate the circuit:\n",
    "\n",
    "```python\n",
    "def simulate(qc=qc):\n",
    "  from qiskit.visualization import plot_histogram\n",
    "  #aer_sim = Aer.get_backend('aer_simulator')\n",
    "  from qiskit import QuantumCircuit, transpile\n",
    "  from qiskit_aer import AerSimulator # former import: from qiskit import Aer\n",
    "\n",
    "  # Get local simulator backend\n",
    "  aer_sim = AerSimulator()\n",
    "  t_qc = transpile(qc, aer_sim)\n",
    "  counts = aer_sim.run(t_qc).result().get_counts()\n",
    "  return plot_histogram(counts)\n",
    "```"
   ]
  },
  {
   "cell_type": "markdown",
   "metadata": {
    "id": "LgfXRaKFLu4c"
   },
   "source": [
    "#Exercise 2b\n",
    "\n",
    "Simulate the current circuit by running\n",
    "\n",
    "```python\n",
    "simulate(qc)\n",
    "```"
   ]
  },
  {
   "cell_type": "code",
   "execution_count": null,
   "metadata": {
    "id": "Ri4Bjvx-aOD8"
   },
   "outputs": [],
   "source": [
    "# Type the answer here.\n",
    "def simulate(qc=qc):\n",
    "  from qiskit.visualization import plot_histogram\n",
    "  #aer_sim = Aer.get_backend('aer_simulator')\n",
    "  from qiskit import QuantumCircuit, transpile\n",
    "  from qiskit_aer import AerSimulator # former import: from qiskit import Aer\n",
    "\n",
    "  # Get local simulator backend\n",
    "  aer_sim = AerSimulator()\n",
    "  t_qc = transpile(qc, aer_sim)\n",
    "  counts = aer_sim.run(t_qc).result().get_counts()\n",
    "  return plot_histogram(counts)"
   ]
  },
  {
   "cell_type": "markdown",
   "metadata": {
    "id": "4DZH0EHh_8VI"
   },
   "source": [
    "#Exercise 3 Hadamard Gate\n",
    "\n",
    "Use the code below to add a Hadmard gate the qubit qin[0].\n",
    "\n",
    "```python\n",
    "qc.h(qin[0])\n",
    "```\n",
    "\n",
    "Draw and simulate the circuit."
   ]
  },
  {
   "cell_type": "markdown",
   "metadata": {
    "id": "xPuqT9AUaUaL"
   },
   "source": [
    "#Answer"
   ]
  },
  {
   "cell_type": "code",
   "execution_count": null,
   "metadata": {
    "id": "cae6YqbWaX1n"
   },
   "outputs": [],
   "source": [
    "# Type the answer here.\n"
   ]
  },
  {
   "cell_type": "markdown",
   "metadata": {
    "id": "E_1Reb6meLNH"
   },
   "source": [
    "#Exercise 4 Superposition\n",
    "\n",
    "Create the following circuit:\n",
    "\n",
    "<img src=\"https://github.com/Quantum-Computing-Philippines/QISkit-Beginner-Exercises/blob/bobby/images/2-qubit-hadamard.png?raw=1\">\n",
    "\n",
    "Simulate the circuit by running\n",
    "\n",
    "```python\n",
    "simulate(qc)\n",
    "```"
   ]
  },
  {
   "cell_type": "markdown",
   "metadata": {
    "id": "P64JDl_jadvK"
   },
   "source": [
    "#Answer"
   ]
  },
  {
   "cell_type": "code",
   "execution_count": null,
   "metadata": {
    "id": "FpkXkJO6aj2d"
   },
   "outputs": [],
   "source": [
    "#Type your answer here.\n"
   ]
  },
  {
   "cell_type": "markdown",
   "metadata": {
    "id": "KmJF1KQ9gavE"
   },
   "source": [
    "#Exercise 5 Control-NOT Gate\n",
    "\n",
    "The Control-NOT Gate is defined by it's action on the qubits:\n",
    "\n",
    "$$C_{ij}|i⟩|j⟩= |i⟩|i⊕j⟩$$\n",
    "\n",
    "where $|i⟩$ is the control qubit, $|j⟩$ is the target qubit and $⊕$ is the exclusive-or defined by\n",
    "\n",
    "|$i$  |$j$ | $$i⊕j$$ |\n",
    "|-|-|-|\n",
    "|0|0|0|\n",
    "|0|1|1|\n",
    "|1|0|1|\n",
    "|1|1|0|\n",
    "\n",
    "\n",
    "\n",
    "In this exercise, you will create a Control-NOT gate and verify the output.\n",
    "\n",
    "Create the following circuit where the Control-NOT is the blue symbol. The filled small circle sits on the control qubit while the filled circle with a + sign sits on the target qubit.\n",
    "\n",
    "<img src=\"https://github.com/Quantum-Computing-Philippines/QISkit-Beginner-Exercises/blob/bobby/images/control_not_gate.png?raw=1\">\n",
    "\n",
    "Simulate the circuit if the input is $q0_0 = |1⟩$ and $q0_1 = |0⟩$"
   ]
  },
  {
   "cell_type": "markdown",
   "metadata": {
    "id": "rp2jxPXqapKD"
   },
   "source": [
    "#Answer"
   ]
  },
  {
   "cell_type": "code",
   "execution_count": null,
   "metadata": {
    "id": "O6ZOaQC8aq4s"
   },
   "outputs": [],
   "source": [
    "#Type your answer here\n"
   ]
  },
  {
   "cell_type": "code",
   "execution_count": 1,
   "metadata": {},
   "outputs": [
    {
     "ename": "NameError",
     "evalue": "name 'np' is not defined",
     "output_type": "error",
     "traceback": [
      "\u001b[0;31m---------------------------------------------------------------------------\u001b[0m",
      "\u001b[0;31mNameError\u001b[0m                                 Traceback (most recent call last)",
      "Cell \u001b[0;32mIn[1], line 3\u001b[0m\n\u001b[1;32m      1\u001b[0m \u001b[38;5;66;03m# Choose a type of oracle at random. With probability half it is constant, \u001b[39;00m\n\u001b[1;32m      2\u001b[0m \u001b[38;5;66;03m# and with the same probability it is balanced\u001b[39;00m\n\u001b[0;32m----> 3\u001b[0m oracleType, oracleValue \u001b[38;5;241m=\u001b[39m \u001b[43mnp\u001b[49m\u001b[38;5;241m.\u001b[39mrandom\u001b[38;5;241m.\u001b[39mrandint(\u001b[38;5;241m2\u001b[39m), np\u001b[38;5;241m.\u001b[39mrandom\u001b[38;5;241m.\u001b[39mrandint(\u001b[38;5;241m2\u001b[39m)\n\u001b[1;32m      5\u001b[0m \u001b[38;5;28;01mif\u001b[39;00m oracleType \u001b[38;5;241m==\u001b[39m \u001b[38;5;241m0\u001b[39m:\n\u001b[1;32m      6\u001b[0m     \u001b[38;5;28mprint\u001b[39m(\u001b[38;5;124m\"\u001b[39m\u001b[38;5;124mThe oracle returns a constant value \u001b[39m\u001b[38;5;124m\"\u001b[39m, oracleValue)\n",
      "\u001b[0;31mNameError\u001b[0m: name 'np' is not defined"
     ]
    }
   ],
   "source": [
    "# Choose a type of oracle at random. With probability half it is constant, \n",
    "# and with the same probability it is balanced\n",
    "oracleType, oracleValue = np.random.randint(2), np.random.randint(2)\n",
    "\n",
    "if oracleType == 0:\n",
    "    print(\"The oracle returns a constant value \", oracleValue)\n",
    "else:\n",
    "    print(\"The oracle returns a balanced function\")\n",
    "    a = np.random.randint(1,2**n) # this is a hidden parameter for balanced oracle. \n",
    "\n",
    "# Creating registers\n",
    "# n qubits for querying the oracle and one qubit for storing the answer\n",
    "qr = QuantumRegister(n+1) #all qubits are initialized to zero\n",
    "# for recording the measurement on the first register\n",
    "cr = ClassicalRegister(n, name='res')\n",
    "\n",
    "circuitName = \"DeutschJozsa\"\n",
    "djCircuit = QuantumCircuit(qr, cr)\n",
    "\n",
    "# Create the superposition of all input queries in the first register by applying the Hadamard gate to each qubit.\n",
    "for i in range(n):\n",
    "    djCircuit.h(qr[i])\n",
    "\n",
    "# Flip the second register and apply the Hadamard gate.\n",
    "djCircuit.x(qr[n])\n",
    "djCircuit.h(qr[n])\n",
    "    \n",
    "# Apply barrier to mark the beginning of the oracle\n",
    "djCircuit.barrier()\n",
    "\n",
    "if oracleType == 0:#If the oracleType is \"0\", the oracle returns oracleValue for all input. \n",
    "    if oracleValue == 1:\n",
    "        djCircuit.x(qr[n])\n",
    "    else:\n",
    "        djCircuit.id(qr[n])\n",
    "else: # Otherwise, it returns the inner product of the input with a (non-zero bitstring) \n",
    "    for i in range(n):\n",
    "        if (a & (1 << i)):\n",
    "            djCircuit.cx(qr[i], qr[n])\n",
    "        \n",
    "# Apply barrier to mark the end of the oracle\n",
    "djCircuit.barrier()\n",
    "\n",
    "# Apply Hadamard gates after querying the oracle\n",
    "for i in range(n):\n",
    "    djCircuit.h(qr[i])\n",
    "    \n",
    "# Measurement\n",
    "djCircuit.barrier()\n",
    "for i in range(n):\n",
    "    djCircuit.measure(qr[i], cr[i])"
   ]
  },
  {
   "cell_type": "code",
   "execution_count": 2,
   "metadata": {},
   "outputs": [
    {
     "ename": "NameError",
     "evalue": "name 'djCircuit' is not defined",
     "output_type": "error",
     "traceback": [
      "\u001b[0;31m---------------------------------------------------------------------------\u001b[0m",
      "\u001b[0;31mNameError\u001b[0m                                 Traceback (most recent call last)",
      "Cell \u001b[0;32mIn[2], line 2\u001b[0m\n\u001b[1;32m      1\u001b[0m \u001b[38;5;66;03m#draw the circuit\u001b[39;00m\n\u001b[0;32m----> 2\u001b[0m \u001b[43mdjCircuit\u001b[49m\u001b[38;5;241m.\u001b[39mdraw(output\u001b[38;5;241m=\u001b[39m\u001b[38;5;124m'\u001b[39m\u001b[38;5;124mmpl\u001b[39m\u001b[38;5;124m'\u001b[39m,scale\u001b[38;5;241m=\u001b[39m\u001b[38;5;241m0.5\u001b[39m)\n",
      "\u001b[0;31mNameError\u001b[0m: name 'djCircuit' is not defined"
     ]
    }
   ],
   "source": [
    "#draw the circuit\n",
    "djCircuit.draw(output='mpl',scale=0.5)"
   ]
  },
  {
   "cell_type": "code",
   "execution_count": null,
   "metadata": {},
   "outputs": [],
   "source": []
  }
 ],
 "metadata": {
  "colab": {
   "provenance": [
    {
     "file_id": "1mGM7t2z8cA2uOc7xg9IrN9O6AMPhF-1T",
     "timestamp": 1743214573556
    },
    {
     "file_id": "https://github.com/Quantum-Computing-Philippines/QISkit-Beginner-Exercises/blob/main/QISKit_Quantum_Computing_Lab_1.ipynb",
     "timestamp": 1740354199768
    }
   ]
  },
  "kernelspec": {
   "display_name": "Python 3 (ipykernel)",
   "language": "python",
   "name": "python3"
  },
  "language_info": {
   "codemirror_mode": {
    "name": "ipython",
    "version": 3
   },
   "file_extension": ".py",
   "mimetype": "text/x-python",
   "name": "python",
   "nbconvert_exporter": "python",
   "pygments_lexer": "ipython3",
   "version": "3.10.12"
  }
 },
 "nbformat": 4,
 "nbformat_minor": 4
}
